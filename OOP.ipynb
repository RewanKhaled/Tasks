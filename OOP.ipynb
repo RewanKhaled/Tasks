{
 "cells": [
  {
   "cell_type": "markdown",
   "id": "04aeb3c4",
   "metadata": {},
   "source": [
    "<h1 style=\"color:blue;\">OOP Task Solution - Rewan Khaled</h1>"
   ]
  },
  {
   "cell_type": "markdown",
   "id": "9c0d907b",
   "metadata": {},
   "source": [
    "<h2 style=\"color:red;\">Report 1.1 (Shallow vs Deep Copy)</h2>\n",
    "\n",
    "***A shallow copy*** creates a new object but does not copy nested objects — instead, it stores references to the same inner objects.  \n",
    "This means if you change something inside a nested object, the change will appear in both the original and the copy because they share the same inner references.  \n",
    "\n",
    "***A deep copy*** creates a new object and recursively copies all nested objects.  \n",
    "This means changes inside nested objects will not affect the original because each nested object is fully duplicated."
   ]
  },
  {
   "cell_type": "code",
   "execution_count": 3,
   "id": "3559e120",
   "metadata": {},
   "outputs": [
    {
     "name": "stdout",
     "output_type": "stream",
     "text": [
      "After shallow copy change, a = [[99, 2], [3, 4]]\n",
      "Shallow copy = [[99, 2], [3, 4]]\n",
      "After deep copy change, a = [[99, 2], [3, 4]]\n",
      "Deep copy = [[88, 2], [3, 4]]\n"
     ]
    }
   ],
   "source": [
    "import copy\n",
    "\n",
    "a = [[1, 2], [3, 4]]\n",
    "\n",
    "# Shallow Copy\n",
    "shallow = copy.copy(a)\n",
    "shallow[0][0] = 99  # Change first element of first nested list\n",
    "\n",
    "# Show that shallow copy affects the original\n",
    "print(\"After shallow copy change, a =\", a)\n",
    "print(\"Shallow copy =\", shallow)\n",
    "\n",
    "# Deep Copy\n",
    "deep = copy.deepcopy(a)\n",
    "deep[0][0] = 88  # Change first element of first nested list in deep copy\n",
    "\n",
    "# Show that deep copy does not affect the original\n",
    "print(\"After deep copy change, a =\", a)\n",
    "print(\"Deep copy =\", deep)"
   ]
  },
  {
   "cell_type": "markdown",
   "id": "ebe96eb8",
   "metadata": {},
   "source": [
    "<h2 style=\"color:red; \">Report 1.2 (Multiple Inheritance)</h2>\n",
    "\n",
    "***Multiple inheritance*** \n",
    "\n",
    "is when a class inherits from more than one parent class at the same time.\n",
    "This allows the child class to use attributes and methods from all its parent classes.\n",
    "In Python, we define multiple inheritance like this:\n",
    "\n",
    "```python\n",
    "class Child(Parent1, Parent2):\n",
    "    pass"
   ]
  },
  {
   "cell_type": "markdown",
   "id": "e4e54bf1",
   "metadata": {},
   "source": [
    "***What will happen if the child and the parent have the same method?***\n",
    "\n",
    "If the child defines a method with the same name as one in the parent, the child’s method overrides the parent’s method.\n",
    "This means Python will call the child’s version instead of the parent’s."
   ]
  },
  {
   "cell_type": "code",
   "execution_count": 4,
   "id": "41b1991a",
   "metadata": {},
   "outputs": [
    {
     "name": "stdout",
     "output_type": "stream",
     "text": [
      "Hello from Child\n"
     ]
    }
   ],
   "source": [
    "class Parent:\n",
    "    def greet(self):\n",
    "        print(\"Hello from Parent\")\n",
    "\n",
    "class Child(Parent):\n",
    "    def greet(self):  # Overrides parent's greet()\n",
    "        print(\"Hello from Child\")\n",
    "\n",
    "obj = Child()\n",
    "obj.greet()  # Output: Hello from Child"
   ]
  },
  {
   "cell_type": "markdown",
   "id": "65bbec06",
   "metadata": {},
   "source": [
    "***What will happen if two parents have the same method?***\n",
    "\n",
    "If both parents have a method with the same name, Python uses Method Resolution Order (MRO) to decide which one to call.\n",
    "It looks at the order in which parents are listed when defining the class."
   ]
  },
  {
   "cell_type": "code",
   "execution_count": 5,
   "id": "61d941b5",
   "metadata": {},
   "outputs": [
    {
     "name": "stdout",
     "output_type": "stream",
     "text": [
      "Hello from A\n"
     ]
    }
   ],
   "source": [
    "class A:\n",
    "    def greet(self): print(\"Hello from A\")\n",
    "\n",
    "class B:\n",
    "    def greet(self): print(\"Hello from B\")\n",
    "\n",
    "class C(A, B):  # A is listed first\n",
    "    pass\n",
    "\n",
    "obj = C()\n",
    "obj.greet()  # Output: Hello from A\n"
   ]
  },
  {
   "cell_type": "markdown",
   "id": "81c40067",
   "metadata": {},
   "source": [
    "***What will happen if two parents have the same parent?***\n",
    "\n",
    "This is called the diamond problem. It happens when two parents inherit from the same grandparent.\n",
    "Python’s MRO ensures the grandparent’s method is called only once."
   ]
  },
  {
   "cell_type": "code",
   "execution_count": 6,
   "id": "79e34918",
   "metadata": {},
   "outputs": [
    {
     "name": "stdout",
     "output_type": "stream",
     "text": [
      "Hello from Grandparent\n"
     ]
    }
   ],
   "source": [
    "class Grandparent:\n",
    "    def greet(self):\n",
    "        print(\"Hello from Grandparent\")\n",
    "\n",
    "class Parent1(Grandparent):\n",
    "    pass\n",
    "\n",
    "class Parent2(Grandparent):\n",
    "    pass\n",
    "\n",
    "class Child(Parent1, Parent2):\n",
    "    pass\n",
    "\n",
    "obj = Child()\n",
    "obj.greet()  \n",
    "# Output: Hello from Grandparent\n",
    "# Grandparent is called only once due to MRO."
   ]
  },
  {
   "cell_type": "markdown",
   "id": "12f57c16",
   "metadata": {},
   "source": [
    "<h2 style=\"color:red; \">Part 2 — Voting System</h2>"
   ]
  },
  {
   "cell_type": "code",
   "execution_count": 7,
   "id": "2f546ed5",
   "metadata": {},
   "outputs": [
    {
     "name": "stdout",
     "output_type": "stream",
     "text": [
      "The winner is Alice with 2 votes.\n"
     ]
    }
   ],
   "source": [
    "class VotingSystem:\n",
    "    def __init__(self):\n",
    "        self.__candidates = {}  # private dictionary\n",
    "    \n",
    "    def add_candidate(self, name):\n",
    "        if name not in self.__candidates:\n",
    "            self.__candidates[name] = 0\n",
    "    \n",
    "    def remove_candidate(self, name):\n",
    "        self.__candidates.pop(name, None)\n",
    "    \n",
    "    def vote_to_candidate(self, name):\n",
    "        if name in self.__candidates:\n",
    "            self.__candidates[name] += 1\n",
    "    \n",
    "    def display_winner(self):\n",
    "        if self.__candidates:\n",
    "            winner = max(self.__candidates, key=self.__candidates.get)\n",
    "            print(f\"The winner is {winner} with {self.__candidates[winner]} votes.\")\n",
    "        else:\n",
    "            print(\"No candidates available.\")\n",
    "\n",
    "# Example usage\n",
    "v = VotingSystem()\n",
    "v.add_candidate(\"Alice\")\n",
    "v.add_candidate(\"Bob\")\n",
    "v.vote_to_candidate(\"Alice\")\n",
    "v.vote_to_candidate(\"Alice\")\n",
    "v.display_winner()"
   ]
  },
  {
   "cell_type": "markdown",
   "id": "7a2700ac",
   "metadata": {},
   "source": [
    "<h2 style=\"color:red; \">Part 3 — Smartphone Class</h2>"
   ]
  },
  {
   "cell_type": "code",
   "execution_count": 8,
   "id": "020beb94",
   "metadata": {},
   "outputs": [
    {
     "name": "stdout",
     "output_type": "stream",
     "text": [
      "Calling John...\n",
      "The picture was taken successfully.\n"
     ]
    }
   ],
   "source": [
    "class Phone:\n",
    "    def __init__(self):\n",
    "        self.contacts = []\n",
    "    \n",
    "    def add_contact(self, name):\n",
    "        self.contacts.append(name)\n",
    "    \n",
    "    def remove_contact(self, name):\n",
    "        if name in self.contacts:\n",
    "            self.contacts.remove(name)\n",
    "    \n",
    "    def make_call(self, name):\n",
    "        if name in self.contacts:\n",
    "            print(f\"Calling {name}...\")\n",
    "        else:\n",
    "            print(f\"{name} not in contacts.\")\n",
    "\n",
    "class Camera:\n",
    "    def take_pic(self):\n",
    "        print(\"The picture was taken successfully.\")\n",
    "\n",
    "class Smartphone(Phone, Camera):\n",
    "    pass\n",
    "\n",
    "# Example usage\n",
    "s = Smartphone()\n",
    "s.add_contact(\"John\")\n",
    "s.make_call(\"John\")\n",
    "s.take_pic()"
   ]
  }
 ],
 "metadata": {
  "kernelspec": {
   "display_name": ".venv",
   "language": "python",
   "name": "python3"
  },
  "language_info": {
   "codemirror_mode": {
    "name": "ipython",
    "version": 3
   },
   "file_extension": ".py",
   "mimetype": "text/x-python",
   "name": "python",
   "nbconvert_exporter": "python",
   "pygments_lexer": "ipython3",
   "version": "3.12.4"
  }
 },
 "nbformat": 4,
 "nbformat_minor": 5
}
