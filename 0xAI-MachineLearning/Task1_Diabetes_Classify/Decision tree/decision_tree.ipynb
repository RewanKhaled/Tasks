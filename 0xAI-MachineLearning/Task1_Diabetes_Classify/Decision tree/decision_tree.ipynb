{
 "cells": [
  {
   "cell_type": "markdown",
   "id": "529fd089",
   "metadata": {},
   "source": [
    "🔹 Step 1: Import Libraries & Load Data"
   ]
  },
  {
   "cell_type": "code",
   "execution_count": 29,
   "id": "f25dfbd6",
   "metadata": {},
   "outputs": [
    {
     "name": "stdout",
     "output_type": "stream",
     "text": [
      "Train shape: (80000, 10)\n",
      "Test shape: (20000, 10)\n",
      "\n",
      "Columns: ['Unnamed: 0', 'gender', 'age', 'hypertension', 'heart_disease', 'smoking_history', 'bmi', 'HbA1c_level', 'blood_glucose_level', 'diabetes']\n"
     ]
    },
    {
     "data": {
      "application/vnd.microsoft.datawrangler.viewer.v0+json": {
       "columns": [
        {
         "name": "index",
         "rawType": "int64",
         "type": "integer"
        },
        {
         "name": "Unnamed: 0",
         "rawType": "int64",
         "type": "integer"
        },
        {
         "name": "gender",
         "rawType": "object",
         "type": "string"
        },
        {
         "name": "age",
         "rawType": "float64",
         "type": "float"
        },
        {
         "name": "hypertension",
         "rawType": "int64",
         "type": "integer"
        },
        {
         "name": "heart_disease",
         "rawType": "int64",
         "type": "integer"
        },
        {
         "name": "smoking_history",
         "rawType": "object",
         "type": "string"
        },
        {
         "name": "bmi",
         "rawType": "float64",
         "type": "float"
        },
        {
         "name": "HbA1c_level",
         "rawType": "float64",
         "type": "float"
        },
        {
         "name": "blood_glucose_level",
         "rawType": "int64",
         "type": "integer"
        },
        {
         "name": "diabetes",
         "rawType": "int64",
         "type": "integer"
        }
       ],
       "ref": "56d1c755-6d72-4354-9435-d60df1858a15",
       "rows": [
        [
         "0",
         "0",
         "Female",
         "80.0",
         "0",
         "1",
         "never",
         "25.19",
         "6.6",
         "140",
         "0"
        ],
        [
         "1",
         "1",
         "Female",
         "54.0",
         "0",
         "0",
         "No Info",
         "27.32",
         "6.6",
         "80",
         "0"
        ],
        [
         "2",
         "2",
         "Male",
         "28.0",
         "0",
         "0",
         "never",
         "27.32",
         "5.7",
         "158",
         "0"
        ],
        [
         "3",
         "3",
         "Female",
         "36.0",
         "0",
         "0",
         "current",
         "23.45",
         "5.0",
         "155",
         "0"
        ],
        [
         "4",
         "4",
         "Male",
         "76.0",
         "1",
         "1",
         "current",
         "20.14",
         "4.8",
         "155",
         "0"
        ]
       ],
       "shape": {
        "columns": 10,
        "rows": 5
       }
      },
      "text/html": [
       "<div>\n",
       "<style scoped>\n",
       "    .dataframe tbody tr th:only-of-type {\n",
       "        vertical-align: middle;\n",
       "    }\n",
       "\n",
       "    .dataframe tbody tr th {\n",
       "        vertical-align: top;\n",
       "    }\n",
       "\n",
       "    .dataframe thead th {\n",
       "        text-align: right;\n",
       "    }\n",
       "</style>\n",
       "<table border=\"1\" class=\"dataframe\">\n",
       "  <thead>\n",
       "    <tr style=\"text-align: right;\">\n",
       "      <th></th>\n",
       "      <th>Unnamed: 0</th>\n",
       "      <th>gender</th>\n",
       "      <th>age</th>\n",
       "      <th>hypertension</th>\n",
       "      <th>heart_disease</th>\n",
       "      <th>smoking_history</th>\n",
       "      <th>bmi</th>\n",
       "      <th>HbA1c_level</th>\n",
       "      <th>blood_glucose_level</th>\n",
       "      <th>diabetes</th>\n",
       "    </tr>\n",
       "  </thead>\n",
       "  <tbody>\n",
       "    <tr>\n",
       "      <th>0</th>\n",
       "      <td>0</td>\n",
       "      <td>Female</td>\n",
       "      <td>80.0</td>\n",
       "      <td>0</td>\n",
       "      <td>1</td>\n",
       "      <td>never</td>\n",
       "      <td>25.19</td>\n",
       "      <td>6.6</td>\n",
       "      <td>140</td>\n",
       "      <td>0</td>\n",
       "    </tr>\n",
       "    <tr>\n",
       "      <th>1</th>\n",
       "      <td>1</td>\n",
       "      <td>Female</td>\n",
       "      <td>54.0</td>\n",
       "      <td>0</td>\n",
       "      <td>0</td>\n",
       "      <td>No Info</td>\n",
       "      <td>27.32</td>\n",
       "      <td>6.6</td>\n",
       "      <td>80</td>\n",
       "      <td>0</td>\n",
       "    </tr>\n",
       "    <tr>\n",
       "      <th>2</th>\n",
       "      <td>2</td>\n",
       "      <td>Male</td>\n",
       "      <td>28.0</td>\n",
       "      <td>0</td>\n",
       "      <td>0</td>\n",
       "      <td>never</td>\n",
       "      <td>27.32</td>\n",
       "      <td>5.7</td>\n",
       "      <td>158</td>\n",
       "      <td>0</td>\n",
       "    </tr>\n",
       "    <tr>\n",
       "      <th>3</th>\n",
       "      <td>3</td>\n",
       "      <td>Female</td>\n",
       "      <td>36.0</td>\n",
       "      <td>0</td>\n",
       "      <td>0</td>\n",
       "      <td>current</td>\n",
       "      <td>23.45</td>\n",
       "      <td>5.0</td>\n",
       "      <td>155</td>\n",
       "      <td>0</td>\n",
       "    </tr>\n",
       "    <tr>\n",
       "      <th>4</th>\n",
       "      <td>4</td>\n",
       "      <td>Male</td>\n",
       "      <td>76.0</td>\n",
       "      <td>1</td>\n",
       "      <td>1</td>\n",
       "      <td>current</td>\n",
       "      <td>20.14</td>\n",
       "      <td>4.8</td>\n",
       "      <td>155</td>\n",
       "      <td>0</td>\n",
       "    </tr>\n",
       "  </tbody>\n",
       "</table>\n",
       "</div>"
      ],
      "text/plain": [
       "   Unnamed: 0  gender   age  hypertension  heart_disease smoking_history  \\\n",
       "0           0  Female  80.0             0              1           never   \n",
       "1           1  Female  54.0             0              0         No Info   \n",
       "2           2    Male  28.0             0              0           never   \n",
       "3           3  Female  36.0             0              0         current   \n",
       "4           4    Male  76.0             1              1         current   \n",
       "\n",
       "     bmi  HbA1c_level  blood_glucose_level  diabetes  \n",
       "0  25.19          6.6                  140         0  \n",
       "1  27.32          6.6                   80         0  \n",
       "2  27.32          5.7                  158         0  \n",
       "3  23.45          5.0                  155         0  \n",
       "4  20.14          4.8                  155         0  "
      ]
     },
     "execution_count": 29,
     "metadata": {},
     "output_type": "execute_result"
    }
   ],
   "source": [
    "# Import Libraries & Load Data\n",
    "import pandas as pd\n",
    "import matplotlib.pyplot as plt\n",
    "import seaborn as sns\n",
    "\n",
    "# ML tools\n",
    "from sklearn.preprocessing import OrdinalEncoder\n",
    "from sklearn.model_selection import train_test_split\n",
    "from sklearn.tree import DecisionTreeClassifier\n",
    "from sklearn.metrics import (\n",
    "    accuracy_score, precision_score, recall_score,\n",
    "    f1_score, confusion_matrix, classification_report,\n",
    "    ConfusionMatrixDisplay\n",
    ")\n",
    "import joblib\n",
    "\n",
    "# Load data\n",
    "train_df = pd.read_csv(\"../data/train.csv\")\n",
    "test_df = pd.read_csv(\"../data/test.csv\")\n",
    "\n",
    "print(\"Train shape:\", train_df.shape)\n",
    "print(\"Test shape:\", test_df.shape)\n",
    "print(\"\\nColumns:\", train_df.columns.tolist())\n",
    "\n",
    "train_df.head()"
   ]
  },
  {
   "cell_type": "markdown",
   "id": "a4fec004",
   "metadata": {},
   "source": [
    "🔹 Step 2: EDA (Exploratory Data Analysis)"
   ]
  },
  {
   "cell_type": "code",
   "execution_count": 30,
   "id": "22300260",
   "metadata": {},
   "outputs": [
    {
     "name": "stdout",
     "output_type": "stream",
     "text": [
      "Unnamed: 0             0\n",
      "gender                 0\n",
      "age                    0\n",
      "hypertension           0\n",
      "heart_disease          0\n",
      "smoking_history        0\n",
      "bmi                    0\n",
      "HbA1c_level            0\n",
      "blood_glucose_level    0\n",
      "diabetes               0\n",
      "dtype: int64\n"
     ]
    },
    {
     "data": {
      "image/png": "[encoded data removed]",
      "text/plain": [
       "<Figure size 640x480 with 1 Axes>"
      ]
     },
     "metadata": {},
     "output_type": "display_data"
    }
   ],
   "source": [
    "# Check missing values\n",
    "print(train_df.isnull().sum())\n",
    "\n",
    "# Target distribution\n",
    "sns.countplot(x=\"diabetes\", data=train_df, hue=\"diabetes\", palette=\"Set2\", legend=False)\n",
    "plt.show()"
   ]
  },
  {
   "cell_type": "markdown",
   "id": "7834e744",
   "metadata": {},
   "source": [
    "🔹 Step 3: Data Preprocessing"
   ]
  },
  {
   "cell_type": "code",
   "execution_count": 31,
   "id": "e43fa498",
   "metadata": {},
   "outputs": [],
   "source": [
    "categorical_cols = [\"gender\", \"smoking_history\"]\n",
    "encoder = OrdinalEncoder(handle_unknown=\"use_encoded_value\", unknown_value=-1)\n",
    "\n",
    "train_df[categorical_cols] = encoder.fit_transform(train_df[categorical_cols])\n",
    "test_df[categorical_cols] = encoder.transform(test_df[categorical_cols])\n",
    "\n",
    "# Features and target\n",
    "X = train_df.drop([\"diabetes\", \"Unnamed: 0\"], axis=1)\n",
    "y = train_df[\"diabetes\"]\n",
    "\n",
    "# Train-validation split (no scaling needed for Decision Tree)\n",
    "X_train, X_val, y_train, y_val = train_test_split(\n",
    "    X, y, test_size=0.2, random_state=42, stratify=y\n",
    ")"
   ]
  },
  {
   "cell_type": "markdown",
   "id": "390c512c",
   "metadata": {},
   "source": [
    "🔹 Step 4: Train Decision Tree Model"
   ]
  },
  {
   "cell_type": "code",
   "execution_count": 32,
   "id": "b2289de1",
   "metadata": {},
   "outputs": [
    {
     "name": "stdout",
     "output_type": "stream",
     "text": [
      "✅ Decision Tree Model trained successfully\n"
     ]
    }
   ],
   "source": [
    "# Train Decision Tree Model\n",
    "dt_model = DecisionTreeClassifier(max_depth=5, random_state=42, class_weight=\"balanced\")\n",
    "dt_model.fit(X_train, y_train)\n",
    "print(\"✅ Decision Tree Model trained successfully\")"
   ]
  },
  {
   "cell_type": "markdown",
   "id": "c81fb6bc",
   "metadata": {},
   "source": [
    "🔹 Step 5: Confusion Matrix (Bonus)"
   ]
  },
  {
   "cell_type": "code",
   "execution_count": 33,
   "id": "dd58cf9a",
   "metadata": {},
   "outputs": [
    {
     "name": "stdout",
     "output_type": "stream",
     "text": [
      "Validation -> Accuracy: 0.8385, Precision: 0.3398, Recall: 0.9473, F1: 0.5002\n"
     ]
    },
    {
     "data": {
      "image/png": "[encoded data removed]",
      "text/plain": [
       "<Figure size 640x480 with 2 Axes>"
      ]
     },
     "metadata": {},
     "output_type": "display_data"
    }
   ],
   "source": [
    "# Validation Performance\n",
    "y_pred_val = dt_model.predict(X_val)\n",
    "\n",
    "# Metrics\n",
    "acc = accuracy_score(y_val, y_pred_val)\n",
    "prec = precision_score(y_val, y_pred_val)\n",
    "rec = recall_score(y_val, y_pred_val)\n",
    "f1 = f1_score(y_val, y_pred_val)\n",
    "\n",
    "print(f\"Validation -> Accuracy: {acc:.4f}, Precision: {prec:.4f}, Recall: {rec:.4f}, F1: {f1:.4f}\")\n",
    "\n",
    "# Confusion matrix\n",
    "cm = confusion_matrix(y_val, y_pred_val)\n",
    "disp = ConfusionMatrixDisplay(confusion_matrix=cm, display_labels=[\"No Diabetes\",\"Diabetes\"])\n",
    "disp.plot(cmap=\"Blues\")\n",
    "plt.title(\"Confusion Matrix (Validation Data)\")\n",
    "plt.show()"
   ]
  },
  {
   "cell_type": "markdown",
   "id": "38b7ea99",
   "metadata": {},
   "source": [
    "🔹 Step 6: Export PDF Report (Bonus)"
   ]
  },
  {
   "cell_type": "code",
   "execution_count": 34,
   "id": "0b977997",
   "metadata": {},
   "outputs": [
    {
     "name": "stdout",
     "output_type": "stream",
     "text": [
      "✅ PDF Report saved as 'DecisionTree_Classification_Report_Test.pdf'\n",
      "✅ Confusion Matrix saved as 'DecisionTree_Confusion_Matrix_Test.pdf'\n"
     ]
    }
   ],
   "source": [
    "# Test Performance + Reports\n",
    "X_test = test_df.drop([\"diabetes\", \"Unnamed: 0\"], axis=1)\n",
    "y_test = test_df[\"diabetes\"]\n",
    "\n",
    "y_pred_test = dt_model.predict(X_test)\n",
    "\n",
    "# 1. Classification report\n",
    "report = classification_report(y_test, y_pred_test, target_names=[\"No Diabetes\", \"Diabetes\"])\n",
    "\n",
    "fig, ax = plt.subplots(figsize=(8.5, 11))\n",
    "ax.axis(\"off\")\n",
    "ax.set_title(\"Diabetes Classification Report (Decision Tree - Test Data)\",\n",
    "             fontsize=16, fontweight=\"bold\", pad=20)\n",
    "ax.text(0, 1, report, fontsize=12, ha=\"left\", va=\"top\", family=\"monospace\")\n",
    "\n",
    "plt.savefig(\"DecisionTree_Classification_Report_Test.pdf\", bbox_inches=\"tight\")\n",
    "plt.close()\n",
    "\n",
    "print(\"✅ PDF Report saved as 'DecisionTree_Classification_Report_Test.pdf'\")\n",
    "\n",
    "# 2. Confusion Matrix\n",
    "cm = confusion_matrix(y_test, y_pred_test)\n",
    "disp = ConfusionMatrixDisplay(confusion_matrix=cm, display_labels=[\"No Diabetes\", \"Diabetes\"])\n",
    "disp.plot(cmap=\"Blues\")\n",
    "plt.title(\"Confusion Matrix (Decision Tree - Test Data)\")\n",
    "plt.savefig(\"DecisionTree_Confusion_Matrix_Test.pdf\", bbox_inches=\"tight\")\n",
    "plt.close()\n",
    "\n",
    "print(\"✅ Confusion Matrix saved as 'DecisionTree_Confusion_Matrix_Test.pdf'\")"
   ]
  },
  {
   "cell_type": "code",
   "execution_count": 35,
   "id": "d825f6e4",
   "metadata": {},
   "outputs": [
    {
     "name": "stdout",
     "output_type": "stream",
     "text": [
      "✅ Model saved\n"
     ]
    }
   ],
   "source": [
    "import joblib\n",
    "\n",
    "joblib.dump(dt_model, \"DecisionTree_model.pkl\")\n",
    "print(\"✅ Model saved\")"
   ]
  }
 ],
 "metadata": {
  "kernelspec": {
   "display_name": ".venv",
   "language": "python",
   "name": "python3"
  },
  "language_info": {
   "codemirror_mode": {
    "name": "ipython",
    "version": 3
   },
   "file_extension": ".py",
   "mimetype": "text/x-python",
   "name": "python",
   "nbconvert_exporter": "python",
   "pygments_lexer": "ipython3",
   "version": "3.12.4"
  }
 },
 "nbformat": 4,
 "nbformat_minor": 5
}
